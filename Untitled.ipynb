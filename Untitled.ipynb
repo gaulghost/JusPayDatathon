{
 "cells": [
  {
   "cell_type": "code",
   "execution_count": 1,
   "metadata": {},
   "outputs": [],
   "source": [
    "# import libraries\n",
    "import pandas as pd\n",
    "import numpy as np\n",
    "\n",
    "%matplotlib inline\n",
    "import matplotlib.pyplot as plt\n",
    "import seaborn as sb\n",
    "# import sklearn libararies\n",
    "# from sklearn.preprocessing import StandardScaler, MinMaxScaler, PowerTransformer\n",
    "# from sklearn.impute import SimpleImputer\n",
    "# from sklearn.utils import shuffle\n",
    "# from sklearn.ensemble import RandomForestRegressor, GradientBoostingRegressor\n",
    "# from sklearn.model_selection import train_test_split\n",
    "# from sklearn.metrics import mean_absolute_error\n",
    "# Used for checking Distribution curve\n",
    "from scipy.stats import skew"
   ]
  },
  {
   "cell_type": "code",
   "execution_count": 2,
   "metadata": {},
   "outputs": [],
   "source": [
    "data = pd.read_csv('Transactions datasheet.csv')"
   ]
  },
  {
   "cell_type": "code",
   "execution_count": 3,
   "metadata": {},
   "outputs": [
    {
     "data": {
      "text/html": [
       "<div>\n",
       "<style scoped>\n",
       "    .dataframe tbody tr th:only-of-type {\n",
       "        vertical-align: middle;\n",
       "    }\n",
       "\n",
       "    .dataframe tbody tr th {\n",
       "        vertical-align: top;\n",
       "    }\n",
       "\n",
       "    .dataframe thead th {\n",
       "        text-align: right;\n",
       "    }\n",
       "</style>\n",
       "<table border=\"1\" class=\"dataframe\">\n",
       "  <thead>\n",
       "    <tr style=\"text-align: right;\">\n",
       "      <th></th>\n",
       "      <th>t</th>\n",
       "      <th>success</th>\n",
       "      <th>mid</th>\n",
       "      <th>pmt</th>\n",
       "      <th>pg</th>\n",
       "      <th>sub_type</th>\n",
       "      <th>hr</th>\n",
       "      <th>bank</th>\n",
       "    </tr>\n",
       "  </thead>\n",
       "  <tbody>\n",
       "    <tr>\n",
       "      <th>1997</th>\n",
       "      <td>1</td>\n",
       "      <td>0</td>\n",
       "      <td>drivezy</td>\n",
       "      <td>NB</td>\n",
       "      <td>GOCASHFREE</td>\n",
       "      <td>NaN</td>\n",
       "      <td>2020-02-12 17</td>\n",
       "      <td>NB_DLS</td>\n",
       "    </tr>\n",
       "    <tr>\n",
       "      <th>6577</th>\n",
       "      <td>1</td>\n",
       "      <td>0</td>\n",
       "      <td>countrydelight</td>\n",
       "      <td>NB</td>\n",
       "      <td>PAYU</td>\n",
       "      <td>NaN</td>\n",
       "      <td>2020-02-13 20</td>\n",
       "      <td>NB_SBI</td>\n",
       "    </tr>\n",
       "    <tr>\n",
       "      <th>55</th>\n",
       "      <td>3</td>\n",
       "      <td>0</td>\n",
       "      <td>pharmeasytech</td>\n",
       "      <td>CARD</td>\n",
       "      <td>NaN</td>\n",
       "      <td>NaN</td>\n",
       "      <td>2020-02-14 04</td>\n",
       "      <td>Zeta</td>\n",
       "    </tr>\n",
       "    <tr>\n",
       "      <th>18927</th>\n",
       "      <td>5</td>\n",
       "      <td>4</td>\n",
       "      <td>urbanclap</td>\n",
       "      <td>CARD</td>\n",
       "      <td>PAYTM</td>\n",
       "      <td>NaN</td>\n",
       "      <td>2020-02-14 14</td>\n",
       "      <td>Standard Chartered Bank</td>\n",
       "    </tr>\n",
       "    <tr>\n",
       "      <th>18087</th>\n",
       "      <td>1</td>\n",
       "      <td>1</td>\n",
       "      <td>pharmeasytech</td>\n",
       "      <td>CARD</td>\n",
       "      <td>PAYU</td>\n",
       "      <td>NaN</td>\n",
       "      <td>2020-02-14 06</td>\n",
       "      <td>Indian Overseas Bank</td>\n",
       "    </tr>\n",
       "    <tr>\n",
       "      <th>967</th>\n",
       "      <td>1</td>\n",
       "      <td>1</td>\n",
       "      <td>purplle.com</td>\n",
       "      <td>CARD</td>\n",
       "      <td>PAYTM</td>\n",
       "      <td>NaN</td>\n",
       "      <td>2020-02-14 17</td>\n",
       "      <td>City Union Bank</td>\n",
       "    </tr>\n",
       "    <tr>\n",
       "      <th>2048</th>\n",
       "      <td>3</td>\n",
       "      <td>0</td>\n",
       "      <td>urbanclap</td>\n",
       "      <td>CARD</td>\n",
       "      <td>PAYTM</td>\n",
       "      <td>NaN</td>\n",
       "      <td>2020-02-14 11</td>\n",
       "      <td>Capital One Bank</td>\n",
       "    </tr>\n",
       "    <tr>\n",
       "      <th>9927</th>\n",
       "      <td>4</td>\n",
       "      <td>4</td>\n",
       "      <td>pharmeasytech</td>\n",
       "      <td>WALLET</td>\n",
       "      <td>RAZORPAY</td>\n",
       "      <td>REDIRECT_WALLET_DEBIT</td>\n",
       "      <td>2020-02-14 20</td>\n",
       "      <td>OLAMONEY</td>\n",
       "    </tr>\n",
       "    <tr>\n",
       "      <th>16575</th>\n",
       "      <td>2</td>\n",
       "      <td>2</td>\n",
       "      <td>zivame</td>\n",
       "      <td>CARD</td>\n",
       "      <td>HDFC</td>\n",
       "      <td>NaN</td>\n",
       "      <td>2020-02-12 07</td>\n",
       "      <td>Syndicate Bank</td>\n",
       "    </tr>\n",
       "    <tr>\n",
       "      <th>2328</th>\n",
       "      <td>3</td>\n",
       "      <td>1</td>\n",
       "      <td>fanfight</td>\n",
       "      <td>NB</td>\n",
       "      <td>RAZORPAY</td>\n",
       "      <td>NaN</td>\n",
       "      <td>2020-02-12 13</td>\n",
       "      <td>NB_SYNB</td>\n",
       "    </tr>\n",
       "  </tbody>\n",
       "</table>\n",
       "</div>"
      ],
      "text/plain": [
       "       t  success             mid     pmt          pg               sub_type  \\\n",
       "1997   1        0         drivezy      NB  GOCASHFREE                    NaN   \n",
       "6577   1        0  countrydelight      NB        PAYU                    NaN   \n",
       "55     3        0   pharmeasytech    CARD         NaN                    NaN   \n",
       "18927  5        4       urbanclap    CARD       PAYTM                    NaN   \n",
       "18087  1        1   pharmeasytech    CARD        PAYU                    NaN   \n",
       "967    1        1     purplle.com    CARD       PAYTM                    NaN   \n",
       "2048   3        0       urbanclap    CARD       PAYTM                    NaN   \n",
       "9927   4        4   pharmeasytech  WALLET    RAZORPAY  REDIRECT_WALLET_DEBIT   \n",
       "16575  2        2          zivame    CARD        HDFC                    NaN   \n",
       "2328   3        1        fanfight      NB    RAZORPAY                    NaN   \n",
       "\n",
       "                  hr                     bank  \n",
       "1997   2020-02-12 17                   NB_DLS  \n",
       "6577   2020-02-13 20                   NB_SBI  \n",
       "55     2020-02-14 04                     Zeta  \n",
       "18927  2020-02-14 14  Standard Chartered Bank  \n",
       "18087  2020-02-14 06     Indian Overseas Bank  \n",
       "967    2020-02-14 17          City Union Bank  \n",
       "2048   2020-02-14 11         Capital One Bank  \n",
       "9927   2020-02-14 20                 OLAMONEY  \n",
       "16575  2020-02-12 07           Syndicate Bank  \n",
       "2328   2020-02-12 13                  NB_SYNB  "
      ]
     },
     "execution_count": 3,
     "metadata": {},
     "output_type": "execute_result"
    }
   ],
   "source": [
    "data.sample(10)"
   ]
  },
  {
   "cell_type": "code",
   "execution_count": 4,
   "metadata": {},
   "outputs": [],
   "source": [
    "ktimes = []\n",
    "for created in data['hr']:\n",
    "  x = created.split(\" \")\n",
    "  y = x[0].split(\"-\")\n",
    "  kk = \"\"\n",
    "  \n",
    "  for i in y:\n",
    "    kk += i\n",
    "  kk += x[1]\n",
    "#   stime = created + \":00:00\"\n",
    "  ktimes.append(kk)\n",
    "data['time'] = ktimes"
   ]
  },
  {
   "cell_type": "code",
   "execution_count": 5,
   "metadata": {},
   "outputs": [
    {
     "data": {
      "text/plain": [
       "str"
      ]
     },
     "execution_count": 5,
     "metadata": {},
     "output_type": "execute_result"
    }
   ],
   "source": [
    "type(data.time[0])"
   ]
  },
  {
   "cell_type": "code",
   "execution_count": 6,
   "metadata": {},
   "outputs": [],
   "source": [
    "# data.time = data.time.astype('int64')"
   ]
  },
  {
   "cell_type": "code",
   "execution_count": 7,
   "metadata": {},
   "outputs": [],
   "source": [
    "# data.drop( columns = ['sub_type', 'bank','hr'], inplace = True)"
   ]
  },
  {
   "cell_type": "code",
   "execution_count": 8,
   "metadata": {},
   "outputs": [
    {
     "data": {
      "text/html": [
       "<div>\n",
       "<style scoped>\n",
       "    .dataframe tbody tr th:only-of-type {\n",
       "        vertical-align: middle;\n",
       "    }\n",
       "\n",
       "    .dataframe tbody tr th {\n",
       "        vertical-align: top;\n",
       "    }\n",
       "\n",
       "    .dataframe thead th {\n",
       "        text-align: right;\n",
       "    }\n",
       "</style>\n",
       "<table border=\"1\" class=\"dataframe\">\n",
       "  <thead>\n",
       "    <tr style=\"text-align: right;\">\n",
       "      <th></th>\n",
       "      <th>t</th>\n",
       "      <th>success</th>\n",
       "      <th>mid</th>\n",
       "      <th>pmt</th>\n",
       "      <th>pg</th>\n",
       "      <th>sub_type</th>\n",
       "      <th>hr</th>\n",
       "      <th>bank</th>\n",
       "      <th>time</th>\n",
       "    </tr>\n",
       "  </thead>\n",
       "  <tbody>\n",
       "    <tr>\n",
       "      <th>0</th>\n",
       "      <td>2</td>\n",
       "      <td>1</td>\n",
       "      <td>zivame</td>\n",
       "      <td>NB</td>\n",
       "      <td>PAYU</td>\n",
       "      <td>NaN</td>\n",
       "      <td>2020-02-14 06</td>\n",
       "      <td>NB_CITI</td>\n",
       "      <td>2020021406</td>\n",
       "    </tr>\n",
       "    <tr>\n",
       "      <th>1</th>\n",
       "      <td>1</td>\n",
       "      <td>0</td>\n",
       "      <td>urbanclap</td>\n",
       "      <td>NB</td>\n",
       "      <td>PAYTM</td>\n",
       "      <td>NaN</td>\n",
       "      <td>2020-02-14 06</td>\n",
       "      <td>NB_SYNB</td>\n",
       "      <td>2020021406</td>\n",
       "    </tr>\n",
       "    <tr>\n",
       "      <th>2</th>\n",
       "      <td>5</td>\n",
       "      <td>1</td>\n",
       "      <td>pharmeasytech</td>\n",
       "      <td>WALLET</td>\n",
       "      <td>AIRTELMONEY</td>\n",
       "      <td>REDIRECT_WALLET_DEBIT</td>\n",
       "      <td>2020-02-14 11</td>\n",
       "      <td>AIRTELMONEY</td>\n",
       "      <td>2020021411</td>\n",
       "    </tr>\n",
       "    <tr>\n",
       "      <th>3</th>\n",
       "      <td>1</td>\n",
       "      <td>1</td>\n",
       "      <td>pharmeasytech</td>\n",
       "      <td>CARD</td>\n",
       "      <td>PAYU</td>\n",
       "      <td>NaN</td>\n",
       "      <td>2020-02-14 12</td>\n",
       "      <td>THE SATARA SAHAKARI BANK LTD MUMBAI</td>\n",
       "      <td>2020021412</td>\n",
       "    </tr>\n",
       "    <tr>\n",
       "      <th>4</th>\n",
       "      <td>1</td>\n",
       "      <td>1</td>\n",
       "      <td>fanfight</td>\n",
       "      <td>CARD</td>\n",
       "      <td>RAZORPAY</td>\n",
       "      <td>NaN</td>\n",
       "      <td>2020-02-14 06</td>\n",
       "      <td>DCB</td>\n",
       "      <td>2020021406</td>\n",
       "    </tr>\n",
       "  </tbody>\n",
       "</table>\n",
       "</div>"
      ],
      "text/plain": [
       "   t  success            mid     pmt           pg               sub_type  \\\n",
       "0  2        1         zivame      NB         PAYU                    NaN   \n",
       "1  1        0      urbanclap      NB        PAYTM                    NaN   \n",
       "2  5        1  pharmeasytech  WALLET  AIRTELMONEY  REDIRECT_WALLET_DEBIT   \n",
       "3  1        1  pharmeasytech    CARD         PAYU                    NaN   \n",
       "4  1        1       fanfight    CARD     RAZORPAY                    NaN   \n",
       "\n",
       "              hr                                 bank        time  \n",
       "0  2020-02-14 06                              NB_CITI  2020021406  \n",
       "1  2020-02-14 06                              NB_SYNB  2020021406  \n",
       "2  2020-02-14 11                          AIRTELMONEY  2020021411  \n",
       "3  2020-02-14 12  THE SATARA SAHAKARI BANK LTD MUMBAI  2020021412  \n",
       "4  2020-02-14 06                                  DCB  2020021406  "
      ]
     },
     "execution_count": 8,
     "metadata": {},
     "output_type": "execute_result"
    }
   ],
   "source": [
    "data.head()"
   ]
  },
  {
   "cell_type": "code",
   "execution_count": 9,
   "metadata": {},
   "outputs": [],
   "source": [
    "data.to_csv('TransactionsDatasheet.csv', index = False)"
   ]
  },
  {
   "cell_type": "code",
   "execution_count": 22,
   "metadata": {},
   "outputs": [],
   "source": [
    "ktimes1 = []\n",
    "for x,y in zip(data['success'],data['t']):\n",
    "  ktimes1.append(x*100/y)\n",
    "data['successRate'] = ktimes1"
   ]
  },
  {
   "cell_type": "code",
   "execution_count": 23,
   "metadata": {},
   "outputs": [
    {
     "data": {
      "text/plain": [
       "0         50.0\n",
       "1          0.0\n",
       "2         20.0\n",
       "3        100.0\n",
       "4        100.0\n",
       "         ...  \n",
       "19302    100.0\n",
       "19303      0.0\n",
       "19304      0.0\n",
       "19305    100.0\n",
       "19306    100.0\n",
       "Name: successRate, Length: 19307, dtype: float64"
      ]
     },
     "execution_count": 23,
     "metadata": {},
     "output_type": "execute_result"
    }
   ],
   "source": [
    "data['successRate']"
   ]
  },
  {
   "cell_type": "code",
   "execution_count": 24,
   "metadata": {},
   "outputs": [],
   "source": [
    "midDict = {}\n",
    "for t,sr,m in zip(data['time'],data['successRate'],data['mid']):\n",
    "    if m not in midDict.keys():\n",
    "        midDict[m] = {}\n",
    "    if t not in midDict[m].keys():\n",
    "        midDict[m][t] = [sr,1]\n",
    "    else:\n",
    "        x = midDict[m][t]\n",
    "        midDict[m][t] = [(x[0]*x[1] + sr)/(x[1]+1), x[1]+1]"
   ]
  },
  {
   "cell_type": "code",
   "execution_count": 25,
   "metadata": {},
   "outputs": [
    {
     "ename": "TypeError",
     "evalue": "can only concatenate str (not \"int\") to str",
     "output_type": "error",
     "traceback": [
      "\u001b[1;31m---------------------------------------------------------------------------\u001b[0m",
      "\u001b[1;31mTypeError\u001b[0m                                 Traceback (most recent call last)",
      "\u001b[1;32m<ipython-input-25-dad6516a3137>\u001b[0m in \u001b[0;36m<module>\u001b[1;34m\u001b[0m\n\u001b[0;32m      3\u001b[0m \u001b[1;31m#     plt.show()\u001b[0m\u001b[1;33m\u001b[0m\u001b[1;33m\u001b[0m\u001b[1;33m\u001b[0m\u001b[0m\n\u001b[0;32m      4\u001b[0m     \u001b[0mx\u001b[0m\u001b[1;33m,\u001b[0m\u001b[0my\u001b[0m \u001b[1;33m=\u001b[0m \u001b[1;33m[\u001b[0m\u001b[1;33m]\u001b[0m\u001b[1;33m,\u001b[0m\u001b[1;33m[\u001b[0m\u001b[1;33m]\u001b[0m\u001b[1;33m\u001b[0m\u001b[1;33m\u001b[0m\u001b[0m\n\u001b[1;32m----> 5\u001b[1;33m     \u001b[1;32mfor\u001b[0m \u001b[0mi\u001b[0m \u001b[1;32min\u001b[0m \u001b[0mrange\u001b[0m\u001b[1;33m(\u001b[0m\u001b[1;36m0\u001b[0m\u001b[1;33m,\u001b[0m\u001b[0mmax\u001b[0m\u001b[1;33m(\u001b[0m\u001b[0mlist\u001b[0m\u001b[1;33m(\u001b[0m\u001b[0mmidDict\u001b[0m\u001b[1;33m[\u001b[0m\u001b[0mm\u001b[0m\u001b[1;33m]\u001b[0m\u001b[1;33m.\u001b[0m\u001b[0mkeys\u001b[0m\u001b[1;33m(\u001b[0m\u001b[1;33m)\u001b[0m\u001b[1;33m)\u001b[0m\u001b[1;33m)\u001b[0m\u001b[1;33m+\u001b[0m\u001b[1;36m1\u001b[0m\u001b[1;33m)\u001b[0m\u001b[1;33m:\u001b[0m\u001b[1;33m\u001b[0m\u001b[1;33m\u001b[0m\u001b[0m\n\u001b[0m\u001b[0;32m      6\u001b[0m         \u001b[1;32mif\u001b[0m \u001b[0mi\u001b[0m \u001b[1;32min\u001b[0m \u001b[0mmidDict\u001b[0m\u001b[1;33m[\u001b[0m\u001b[0mm\u001b[0m\u001b[1;33m]\u001b[0m\u001b[1;33m.\u001b[0m\u001b[0mkeys\u001b[0m\u001b[1;33m(\u001b[0m\u001b[1;33m)\u001b[0m\u001b[1;33m:\u001b[0m\u001b[1;33m\u001b[0m\u001b[1;33m\u001b[0m\u001b[0m\n\u001b[0;32m      7\u001b[0m             \u001b[0mx\u001b[0m\u001b[1;33m.\u001b[0m\u001b[0mappend\u001b[0m\u001b[1;33m(\u001b[0m\u001b[0mi\u001b[0m\u001b[1;33m)\u001b[0m\u001b[1;33m\u001b[0m\u001b[1;33m\u001b[0m\u001b[0m\n",
      "\u001b[1;31mTypeError\u001b[0m: can only concatenate str (not \"int\") to str"
     ]
    }
   ],
   "source": [
    "for m in midDict.keys():\n",
    "#     plt.plot(list(midDict[m].keys()),)\n",
    "#     plt.show()\n",
    "    x,y = [],[]\n",
    "    for i in range(0,max(list(midDict[m].keys()))+1):\n",
    "        if i in midDict[m].keys():\n",
    "            x.append(i)\n",
    "            y.append(midDict[m][i][0])\n",
    "    \n",
    "#     x = midDict[m].values()\n",
    "#     x = [i[0] for i in midDict[m].values()]\n",
    "    plt.title(m)\n",
    "    plt.plot(x,y)\n",
    "    plt.show()"
   ]
  },
  {
   "cell_type": "code",
   "execution_count": 31,
   "metadata": {},
   "outputs": [
    {
     "data": {
      "text/plain": [
       "{'zivame': {6: [71.90881659303393, 123],\n",
       "  9: [73.15081696863557, 128],\n",
       "  12: [69.37735127593587, 118],\n",
       "  8: [62.93460051035597, 119],\n",
       "  17: [74.6955913125428, 144],\n",
       "  10: [75.15723790183074, 121],\n",
       "  5: [70.6482686202686, 125],\n",
       "  7: [65.74869919392931, 106],\n",
       "  13: [74.27502619155872, 125],\n",
       "  1: [74.62121212121212, 44],\n",
       "  14: [71.60105167359198, 151],\n",
       "  11: [74.65399757059735, 130],\n",
       "  19: [67.70534087804968, 93],\n",
       "  15: [68.17935323384332, 136],\n",
       "  2: [72.60797631487286, 58],\n",
       "  4: [78.45128318623051, 106],\n",
       "  3: [74.40705373058313, 85],\n",
       "  0: [61.9, 25],\n",
       "  16: [72.60315036042299, 154],\n",
       "  18: [63.20956105744174, 131],\n",
       "  22: [72.10884353741497, 21],\n",
       "  21: [74.1108630952381, 32],\n",
       "  20: [73.56452628898448, 51],\n",
       "  23: [75.83333333333333, 20]},\n",
       " 'urbanclap': {6: [67.93850793923444, 148],\n",
       "  3: [65.10891527681486, 111],\n",
       "  13: [70.95634531723755, 130],\n",
       "  4: [66.73368548819691, 144],\n",
       "  14: [75.78275285086848, 130],\n",
       "  12: [70.96441586971926, 142],\n",
       "  9: [71.5024356801036, 147],\n",
       "  5: [68.02921964714521, 158],\n",
       "  16: [66.53408860628402, 106],\n",
       "  8: [68.73318874681688, 137],\n",
       "  11: [66.52525057763654, 131],\n",
       "  7: [62.46717925754484, 148],\n",
       "  0: [63.286327923284446, 50],\n",
       "  18: [69.21534510236444, 90],\n",
       "  1: [74.37708982204015, 71],\n",
       "  2: [71.50439692465913, 111],\n",
       "  21: [63.22454817909363, 55],\n",
       "  19: [62.58383016256825, 70],\n",
       "  10: [70.54443580223422, 141],\n",
       "  15: [72.43172107503985, 120],\n",
       "  17: [65.88592355506685, 108],\n",
       "  23: [60.43566894444088, 39],\n",
       "  22: [63.814509564509564, 30],\n",
       "  20: [61.27501151599822, 62]},\n",
       " 'pharmeasytech': {11: [72.21290131757743, 160],\n",
       "  12: [71.06897281909849, 165],\n",
       "  2: [77.32137808929293, 137],\n",
       "  9: [73.32945451873108, 165],\n",
       "  7: [73.64327800834484, 174],\n",
       "  15: [70.44538022210288, 144],\n",
       "  6: [74.86809072444247, 174],\n",
       "  8: [66.768670029684, 165],\n",
       "  4: [73.69845585923792, 170],\n",
       "  1: [78.58346868539947, 103],\n",
       "  17: [74.61333035823793, 111],\n",
       "  13: [72.34623535528725, 153],\n",
       "  3: [70.41067085941987, 151],\n",
       "  16: [70.39126486808576, 136],\n",
       "  19: [70.05356220069912, 63],\n",
       "  18: [66.2109933028287, 89],\n",
       "  10: [73.04027882315498, 163],\n",
       "  14: [69.81945564487425, 158],\n",
       "  5: [76.6150968897594, 184],\n",
       "  0: [79.00473633620277, 77],\n",
       "  23: [77.73265964055437, 38],\n",
       "  21: [57.058080808080796, 40],\n",
       "  20: [58.66487549482754, 56],\n",
       "  22: [66.96439219695033, 43]},\n",
       " 'fanfight': {6: [53.65728636048812, 132],\n",
       "  7: [53.0785619127817, 152],\n",
       "  9: [42.6712078395725, 129],\n",
       "  5: [48.825871790399894, 124],\n",
       "  15: [52.29544097440526, 253],\n",
       "  4: [44.68914906732841, 105],\n",
       "  12: [51.38707533787348, 150],\n",
       "  13: [55.77284807438739, 213],\n",
       "  11: [56.93325902864361, 157],\n",
       "  16: [35.80921963889824, 80],\n",
       "  14: [53.92151407405195, 222],\n",
       "  2: [52.20790096205638, 134],\n",
       "  10: [45.30467563069203, 146],\n",
       "  1: [55.034599032462324, 111],\n",
       "  0: [61.19356030876, 70],\n",
       "  3: [50.23840536160684, 104],\n",
       "  8: [49.89290243849861, 140],\n",
       "  17: [43.762961515968385, 70],\n",
       "  20: [50.45930480519257, 53],\n",
       "  18: [55.63383645704645, 62],\n",
       "  19: [63.47112251357742, 68],\n",
       "  22: [49.119477264590046, 35],\n",
       "  21: [64.50726290594811, 54],\n",
       "  23: [51.98463901689708, 31]},\n",
       " 'purplle.com': {7: [60.63274088634233, 98],\n",
       "  13: [56.50679970837009, 105],\n",
       "  6: [61.65882542139146, 109],\n",
       "  3: [65.39920635466163, 76],\n",
       "  12: [58.38897384189843, 112],\n",
       "  16: [57.876157632508935, 102],\n",
       "  15: [61.88445584777281, 100],\n",
       "  14: [61.497056537951934, 101],\n",
       "  11: [54.63370518377211, 104],\n",
       "  20: [66.94837935174071, 35],\n",
       "  8: [55.50221700365986, 92],\n",
       "  18: [64.06565074039122, 85],\n",
       "  4: [63.10957688543896, 87],\n",
       "  10: [64.28006576642424, 92],\n",
       "  19: [46.7795346208659, 57],\n",
       "  9: [59.73155620333124, 103],\n",
       "  2: [63.723404255319146, 47],\n",
       "  17: [63.47414672585793, 103],\n",
       "  21: [54.554865424430645, 23],\n",
       "  0: [77.16666666666667, 20],\n",
       "  1: [63.73198059711689, 41],\n",
       "  22: [64.68253968253968, 21],\n",
       "  5: [63.13374109994843, 101],\n",
       "  23: [79.08333333333334, 20]},\n",
       " 'drivezy': {2: [64.7295793956607, 81],\n",
       "  11: [65.5771091183178, 132],\n",
       "  13: [65.85766121339306, 131],\n",
       "  18: [65.82339548290322, 118],\n",
       "  9: [60.12453730687048, 121],\n",
       "  12: [65.25802054907773, 135],\n",
       "  7: [64.52256481259448, 127],\n",
       "  14: [68.36763328812066, 133],\n",
       "  4: [65.94741223212007, 114],\n",
       "  10: [63.59461850683846, 121],\n",
       "  3: [63.916620402471935, 118],\n",
       "  20: [54.95666724343195, 66],\n",
       "  17: [68.5473133331562, 117],\n",
       "  6: [62.10991388421066, 136],\n",
       "  16: [63.502306798733436, 131],\n",
       "  5: [63.70778949129389, 129],\n",
       "  15: [63.92390857746904, 141],\n",
       "  19: [59.26705497754159, 93],\n",
       "  8: [66.752784757843, 116],\n",
       "  0: [67.3234193342889, 46],\n",
       "  1: [66.13327259160592, 66],\n",
       "  22: [71.82291666666666, 32],\n",
       "  23: [63.488562091503276, 34],\n",
       "  21: [62.277591140973, 47]},\n",
       " 'medlife_prod': {3: [65.27440381387353, 151],\n",
       "  8: [70.59602461095041, 142],\n",
       "  4: [70.57408223798474, 154],\n",
       "  16: [68.62560044411505, 112],\n",
       "  14: [69.60618984928132, 118],\n",
       "  7: [68.98243598591537, 146],\n",
       "  6: [64.87899503185234, 154],\n",
       "  9: [66.60409687090323, 129],\n",
       "  10: [69.78140462222873, 130],\n",
       "  0: [56.81694591416813, 54],\n",
       "  17: [63.13807725554453, 97],\n",
       "  5: [68.16252189355939, 161],\n",
       "  15: [71.16114716255639, 114],\n",
       "  11: [69.61935770716349, 131],\n",
       "  12: [68.52427259829126, 130],\n",
       "  2: [67.9948115912887, 128],\n",
       "  13: [71.30455058392029, 134],\n",
       "  20: [64.32435300207038, 40],\n",
       "  21: [44.17818740399386, 31],\n",
       "  1: [67.35812277826957, 86],\n",
       "  23: [68.77747252747255, 39],\n",
       "  18: [67.31718541880598, 63],\n",
       "  19: [65.89631365366658, 52],\n",
       "  22: [67.73809523809527, 26]},\n",
       " 'countrydelight': {12: [72.50565311452111, 94],\n",
       "  14: [78.13459937932805, 100],\n",
       "  17: [79.95161628659795, 91],\n",
       "  6: [73.20782460563305, 109],\n",
       "  5: [73.69121370082908, 117],\n",
       "  18: [82.65573112743135, 64],\n",
       "  13: [84.58569861511039, 85],\n",
       "  0: [80.77731092436973, 44],\n",
       "  16: [74.3560300656642, 102],\n",
       "  7: [75.77098402006489, 96],\n",
       "  10: [72.69579560032217, 93],\n",
       "  15: [75.63586513054908, 98],\n",
       "  2: [74.59274790091862, 72],\n",
       "  8: [71.92515980751276, 85],\n",
       "  1: [72.4762779273785, 63],\n",
       "  9: [76.4576089291269, 76],\n",
       "  4: [78.1678530597894, 92],\n",
       "  3: [80.5554111126677, 71],\n",
       "  11: [78.53320956373119, 87],\n",
       "  19: [78.71450304259635, 29],\n",
       "  20: [79.32291666666669, 16],\n",
       "  23: [86.36363636363637, 17],\n",
       "  22: [73.80952380952381, 15],\n",
       "  21: [68.18181818181819, 11]}}"
      ]
     },
     "execution_count": 31,
     "metadata": {},
     "output_type": "execute_result"
    }
   ],
   "source": [
    "midDict"
   ]
  },
  {
   "cell_type": "code",
   "execution_count": 66,
   "metadata": {},
   "outputs": [],
   "source": [
    "data.to_csv('TransactionsDatasheet.csv', index = False)"
   ]
  },
  {
   "cell_type": "code",
   "execution_count": 8,
   "metadata": {},
   "outputs": [
    {
     "data": {
      "text/html": [
       "<div>\n",
       "<style scoped>\n",
       "    .dataframe tbody tr th:only-of-type {\n",
       "        vertical-align: middle;\n",
       "    }\n",
       "\n",
       "    .dataframe tbody tr th {\n",
       "        vertical-align: top;\n",
       "    }\n",
       "\n",
       "    .dataframe thead th {\n",
       "        text-align: right;\n",
       "    }\n",
       "</style>\n",
       "<table border=\"1\" class=\"dataframe\">\n",
       "  <thead>\n",
       "    <tr style=\"text-align: right;\">\n",
       "      <th></th>\n",
       "      <th>t</th>\n",
       "      <th>success</th>\n",
       "      <th>time</th>\n",
       "    </tr>\n",
       "  </thead>\n",
       "  <tbody>\n",
       "    <tr>\n",
       "      <th>count</th>\n",
       "      <td>19307.000000</td>\n",
       "      <td>19307.000000</td>\n",
       "      <td>19307.000000</td>\n",
       "    </tr>\n",
       "    <tr>\n",
       "      <th>mean</th>\n",
       "      <td>11.730201</td>\n",
       "      <td>7.728492</td>\n",
       "      <td>10.401253</td>\n",
       "    </tr>\n",
       "    <tr>\n",
       "      <th>std</th>\n",
       "      <td>53.396990</td>\n",
       "      <td>38.175935</td>\n",
       "      <td>5.742671</td>\n",
       "    </tr>\n",
       "    <tr>\n",
       "      <th>min</th>\n",
       "      <td>1.000000</td>\n",
       "      <td>0.000000</td>\n",
       "      <td>0.000000</td>\n",
       "    </tr>\n",
       "    <tr>\n",
       "      <th>25%</th>\n",
       "      <td>1.000000</td>\n",
       "      <td>1.000000</td>\n",
       "      <td>6.000000</td>\n",
       "    </tr>\n",
       "    <tr>\n",
       "      <th>50%</th>\n",
       "      <td>2.000000</td>\n",
       "      <td>1.000000</td>\n",
       "      <td>10.000000</td>\n",
       "    </tr>\n",
       "    <tr>\n",
       "      <th>75%</th>\n",
       "      <td>6.000000</td>\n",
       "      <td>4.000000</td>\n",
       "      <td>15.000000</td>\n",
       "    </tr>\n",
       "    <tr>\n",
       "      <th>max</th>\n",
       "      <td>3365.000000</td>\n",
       "      <td>2524.000000</td>\n",
       "      <td>23.000000</td>\n",
       "    </tr>\n",
       "  </tbody>\n",
       "</table>\n",
       "</div>"
      ],
      "text/plain": [
       "                  t       success          time\n",
       "count  19307.000000  19307.000000  19307.000000\n",
       "mean      11.730201      7.728492     10.401253\n",
       "std       53.396990     38.175935      5.742671\n",
       "min        1.000000      0.000000      0.000000\n",
       "25%        1.000000      1.000000      6.000000\n",
       "50%        2.000000      1.000000     10.000000\n",
       "75%        6.000000      4.000000     15.000000\n",
       "max     3365.000000   2524.000000     23.000000"
      ]
     },
     "execution_count": 8,
     "metadata": {},
     "output_type": "execute_result"
    }
   ],
   "source": [
    "data.describe()"
   ]
  },
  {
   "cell_type": "code",
   "execution_count": 9,
   "metadata": {},
   "outputs": [
    {
     "data": {
      "text/plain": [
       "['t', 'success', 'mid', 'pmt', 'pg', 'sub_type', 'hr', 'bank', 'time']"
      ]
     },
     "execution_count": 9,
     "metadata": {},
     "output_type": "execute_result"
    }
   ],
   "source": [
    "data.columns.tolist()"
   ]
  },
  {
   "cell_type": "code",
   "execution_count": 10,
   "metadata": {},
   "outputs": [
    {
     "data": {
      "text/plain": [
       "t          32.224013\n",
       "success    35.520814\n",
       "time        0.117731\n",
       "dtype: float64"
      ]
     },
     "execution_count": 10,
     "metadata": {},
     "output_type": "execute_result"
    }
   ],
   "source": [
    "data.skew(axis = 0, skipna = True)"
   ]
  },
  {
   "cell_type": "code",
   "execution_count": 11,
   "metadata": {},
   "outputs": [
    {
     "data": {
      "image/png": "[encoded data removed]",
      "text/plain": [
       "<Figure size 1080x504 with 1 Axes>"
      ]
     },
     "metadata": {
      "needs_background": "light"
     },
     "output_type": "display_data"
    }
   ],
   "source": [
    "fig, axs = plt.subplots(figsize=(15, 7))\n",
    "axs = data['t'].hist(bins = 100)"
   ]
  },
  {
   "cell_type": "code",
   "execution_count": 12,
   "metadata": {},
   "outputs": [
    {
     "data": {
      "image/png": "[encoded data removed]",
      "text/plain": [
       "<Figure size 1080x504 with 1 Axes>"
      ]
     },
     "metadata": {
      "needs_background": "light"
     },
     "output_type": "display_data"
    }
   ],
   "source": [
    "fig, axs = plt.subplots(figsize=(15, 7))\n",
    "axs = data['success'].hist(bins = 100)"
   ]
  },
  {
   "cell_type": "code",
   "execution_count": 13,
   "metadata": {},
   "outputs": [
    {
     "data": {
      "image/png": "[encoded data removed]",
      "text/plain": [
       "<Figure size 1080x504 with 1 Axes>"
      ]
     },
     "metadata": {
      "needs_background": "light"
     },
     "output_type": "display_data"
    }
   ],
   "source": [
    "fig, axs = plt.subplots(figsize=(15, 7))\n",
    "axs = data['mid'].hist(bins = 100)"
   ]
  },
  {
   "cell_type": "code",
   "execution_count": 14,
   "metadata": {},
   "outputs": [
    {
     "data": {
      "image/png": "[encoded data removed]",
      "text/plain": [
       "<Figure size 1080x504 with 1 Axes>"
      ]
     },
     "metadata": {
      "needs_background": "light"
     },
     "output_type": "display_data"
    }
   ],
   "source": [
    "fig, axs = plt.subplots(figsize=(15, 7))\n",
    "axs = data['pmt'].hist(bins = 100)"
   ]
  },
  {
   "cell_type": "code",
   "execution_count": 15,
   "metadata": {},
   "outputs": [
    {
     "data": {
      "image/png": "[encoded data removed]",
      "text/plain": [
       "<Figure size 1800x504 with 1 Axes>"
      ]
     },
     "metadata": {
      "needs_background": "light"
     },
     "output_type": "display_data"
    }
   ],
   "source": [
    "fig, axs = plt.subplots(figsize=(25, 7))\n",
    "axs = data['pg'].hist(bins = 100)"
   ]
  },
  {
   "cell_type": "code",
   "execution_count": 16,
   "metadata": {},
   "outputs": [
    {
     "data": {
      "image/png": "[encoded data removed]",
      "text/plain": [
       "<Figure size 1080x504 with 1 Axes>"
      ]
     },
     "metadata": {
      "needs_background": "light"
     },
     "output_type": "display_data"
    }
   ],
   "source": [
    "fig, axs = plt.subplots(figsize=(15, 7))\n",
    "axs = data['sub_type'].hist(bins = 100)"
   ]
  },
  {
   "cell_type": "code",
   "execution_count": 17,
   "metadata": {},
   "outputs": [
    {
     "data": {
      "text/html": [
       "<div>\n",
       "<style scoped>\n",
       "    .dataframe tbody tr th:only-of-type {\n",
       "        vertical-align: middle;\n",
       "    }\n",
       "\n",
       "    .dataframe tbody tr th {\n",
       "        vertical-align: top;\n",
       "    }\n",
       "\n",
       "    .dataframe thead th {\n",
       "        text-align: right;\n",
       "    }\n",
       "</style>\n",
       "<table border=\"1\" class=\"dataframe\">\n",
       "  <thead>\n",
       "    <tr style=\"text-align: right;\">\n",
       "      <th></th>\n",
       "      <th>t</th>\n",
       "      <th>success</th>\n",
       "      <th>time</th>\n",
       "    </tr>\n",
       "  </thead>\n",
       "  <tbody>\n",
       "    <tr>\n",
       "      <th>count</th>\n",
       "      <td>19307.000000</td>\n",
       "      <td>19307.000000</td>\n",
       "      <td>19307.000000</td>\n",
       "    </tr>\n",
       "    <tr>\n",
       "      <th>mean</th>\n",
       "      <td>11.730201</td>\n",
       "      <td>7.728492</td>\n",
       "      <td>10.401253</td>\n",
       "    </tr>\n",
       "    <tr>\n",
       "      <th>std</th>\n",
       "      <td>53.396990</td>\n",
       "      <td>38.175935</td>\n",
       "      <td>5.742671</td>\n",
       "    </tr>\n",
       "    <tr>\n",
       "      <th>min</th>\n",
       "      <td>1.000000</td>\n",
       "      <td>0.000000</td>\n",
       "      <td>0.000000</td>\n",
       "    </tr>\n",
       "    <tr>\n",
       "      <th>25%</th>\n",
       "      <td>1.000000</td>\n",
       "      <td>1.000000</td>\n",
       "      <td>6.000000</td>\n",
       "    </tr>\n",
       "    <tr>\n",
       "      <th>50%</th>\n",
       "      <td>2.000000</td>\n",
       "      <td>1.000000</td>\n",
       "      <td>10.000000</td>\n",
       "    </tr>\n",
       "    <tr>\n",
       "      <th>75%</th>\n",
       "      <td>6.000000</td>\n",
       "      <td>4.000000</td>\n",
       "      <td>15.000000</td>\n",
       "    </tr>\n",
       "    <tr>\n",
       "      <th>max</th>\n",
       "      <td>3365.000000</td>\n",
       "      <td>2524.000000</td>\n",
       "      <td>23.000000</td>\n",
       "    </tr>\n",
       "  </tbody>\n",
       "</table>\n",
       "</div>"
      ],
      "text/plain": [
       "                  t       success          time\n",
       "count  19307.000000  19307.000000  19307.000000\n",
       "mean      11.730201      7.728492     10.401253\n",
       "std       53.396990     38.175935      5.742671\n",
       "min        1.000000      0.000000      0.000000\n",
       "25%        1.000000      1.000000      6.000000\n",
       "50%        2.000000      1.000000     10.000000\n",
       "75%        6.000000      4.000000     15.000000\n",
       "max     3365.000000   2524.000000     23.000000"
      ]
     },
     "execution_count": 17,
     "metadata": {},
     "output_type": "execute_result"
    }
   ],
   "source": [
    "data.describe()"
   ]
  },
  {
   "cell_type": "code",
   "execution_count": 18,
   "metadata": {},
   "outputs": [
    {
     "name": "stdout",
     "output_type": "stream",
     "text": [
      "<class 'pandas.core.frame.DataFrame'>\n",
      "RangeIndex: 19307 entries, 0 to 19306\n",
      "Data columns (total 9 columns):\n",
      " #   Column    Non-Null Count  Dtype \n",
      "---  ------    --------------  ----- \n",
      " 0   t         19307 non-null  int64 \n",
      " 1   success   19307 non-null  int64 \n",
      " 2   mid       19307 non-null  object\n",
      " 3   pmt       19307 non-null  object\n",
      " 4   pg        19270 non-null  object\n",
      " 5   sub_type  2903 non-null   object\n",
      " 6   hr        19307 non-null  object\n",
      " 7   bank      18969 non-null  object\n",
      " 8   time      19307 non-null  int64 \n",
      "dtypes: int64(3), object(6)\n",
      "memory usage: 1.3+ MB\n"
     ]
    }
   ],
   "source": [
    "data.info()"
   ]
  },
  {
   "cell_type": "code",
   "execution_count": null,
   "metadata": {},
   "outputs": [],
   "source": []
  }
 ],
 "metadata": {
  "kernelspec": {
   "display_name": "Python 3",
   "language": "python",
   "name": "python3"
  },
  "language_info": {
   "codemirror_mode": {
    "name": "ipython",
    "version": 3
   },
   "file_extension": ".py",
   "mimetype": "text/x-python",
   "name": "python",
   "nbconvert_exporter": "python",
   "pygments_lexer": "ipython3",
   "version": "3.7.6"
  }
 },
 "nbformat": 4,
 "nbformat_minor": 4
}
